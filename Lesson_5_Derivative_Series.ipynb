{
 "cells": [
  {
   "cell_type": "markdown",
   "metadata": {},
   "source": [
    "# Урок 5. Домашнее задание.\n",
    "\n",
    "## Производная. Ряды."
   ]
  },
  {
   "cell_type": "markdown",
   "metadata": {},
   "source": [
    "### Таблица производных\n",
    "\n",
    "$ C' = 0 $\n",
    "\n",
    "$ (x^n)' = n \\cdot x^{n-1} $\n",
    "\n",
    "$ \\left( \\dfrac{1}{\\sqrt[n]{x}} \\right)' = - \\dfrac{1}{n \\cdot x\\sqrt[n]{x}}  $\n",
    "\n",
    "$ \\left( \\dfrac{1}{x^n} \\right)' = - \\dfrac{n}{x^{n+1}} $"
   ]
  },
  {
   "cell_type": "markdown",
   "metadata": {},
   "source": [
    "$ (a^x) = a \\cdot ln(x) $\n",
    "\n",
    "$ (e^x)' = e^x $\n",
    "\n",
    "$ (log_a x)' = \\dfrac{1}{x \\cdot ln(a)} $\n",
    "\n",
    "$ (ln \\ x)' = \\dfrac{1}{x} $"
   ]
  },
  {
   "cell_type": "markdown",
   "metadata": {},
   "source": [
    "$ (sin \\ x)' = cos \\ x $\n",
    "\n",
    "$ (cos \\ x)' = - sin \\ x $\n",
    "\n",
    "$ (tg \\ x)' = \\dfrac{1}{cos^2 \\ x} $\n",
    "\n",
    "$ (ctg \\ x)' = - \\dfrac{1}{sin^2 \\ x} $"
   ]
  },
  {
   "cell_type": "markdown",
   "metadata": {},
   "source": [
    "### Правила дифференцирования\n",
    "\n",
    "$ (C \\cdot f)' = C \\cdot f' $\n",
    "\n",
    "$ (f \\pm g)' = f' \\pm g'$\n",
    "\n",
    "$ (f \\cdot g)' = f' \\cdot g + f \\cdot g' $\n",
    "\n",
    "$ \\left( \\dfrac{f}{g} \\right)' = \\dfrac{f' \\cdot g - f \\cdot g'}{g^2} \\ \\ \\ \\Rightarrow \\ \\ \\  \\left( \\dfrac{1}{v} \\right)' = -\\dfrac{v'}{v^2}$\n",
    "\n",
    "$ ( g(f(x_0)) )' = g'(f(x_0)) \\cdot f'(x_0) $\n"
   ]
  },
  {
   "cell_type": "markdown",
   "metadata": {},
   "source": [
    "### Задача 1\n",
    "\n",
    "#### Найти производную выражения:"
   ]
  },
  {
   "cell_type": "markdown",
   "metadata": {},
   "source": [
    "#### 1.1\n",
    "\n",
    "$ (sin \\ x \\cdot cos \\ x)' = sin' \\ x \\cdot cos \\ x + sin \\ x \\cdot cos' \\ x = cos^2 x - sin^2 x $"
   ]
  },
  {
   "cell_type": "markdown",
   "metadata": {},
   "source": [
    "#### 1.2\n",
    "\n",
    "$ (ln(2x + 1)^3)' = \\dfrac{1}{(2x + 1)^3} \\cdot 3(2x + 1)^2 \\cdot 2 = \\dfrac{6}{2x + 1} $"
   ]
  },
  {
   "cell_type": "markdown",
   "metadata": {},
   "source": [
    "#### 1.3\n",
    "\n",
    "$ \\left( \\sqrt{sin^2(ln(x^3))} \\right)'  = \\dfrac{1}{2 \\sqrt{sin^2(ln(x^3))}} \\cdot 2 sin(ln(x^3)) \\cdot cos(ln(x^3)) \\cdot \\dfrac{1}{x^3} \\cdot 3 x^2  = \\dfrac{3 \\cdot cos(ln(x^3))}{x} $"
   ]
  },
  {
   "cell_type": "markdown",
   "metadata": {},
   "source": [
    "#### 1.4\n",
    "\n",
    "$ \\left( \\dfrac{x^4}{ln(x)} \\right)' = \\dfrac{(x^4)' \\cdot ln(x) - x^4 \\cdot ln'(x)}{ln^2 x} = \\dfrac{x^3  (4 \\ ln(x) - 1)}{ln^2 x} $"
   ]
  },
  {
   "cell_type": "markdown",
   "metadata": {},
   "source": [
    "### Задание 1.5\n",
    "\n",
    "Найти выражение производной функции $ f(x) $ и ее значение в точке $ x_0 $\n",
    "\n",
    "$ f(x) = cos(x^2 + 3x), \\ \\ \\ x_0 = \\sqrt{\\pi} $"
   ]
  },
  {
   "cell_type": "markdown",
   "metadata": {},
   "source": [
    "#### Решение:\n",
    "\n",
    "$ (cos(x^2 + 3x))' = - sin(x^2 + 3x) \\cdot (2x + 3) = - sin(\\pi + 3\\sqrt{\\pi}) \\cdot (2\\sqrt{\\pi} + 3) \\approx -5.38$ "
   ]
  },
  {
   "cell_type": "code",
   "execution_count": 3,
   "metadata": {},
   "outputs": [],
   "source": [
    "import numpy as np"
   ]
  },
  {
   "cell_type": "code",
   "execution_count": 11,
   "metadata": {
    "scrolled": true
   },
   "outputs": [
    {
     "data": {
      "text/plain": [
       "-5.383302410890619"
      ]
     },
     "execution_count": 11,
     "metadata": {},
     "output_type": "execute_result"
    }
   ],
   "source": [
    "-np.sin(np.pi + 3 * np.math.sqrt(np.pi)) * (2 * np.math.sqrt(np.pi) + 3)"
   ]
  },
  {
   "cell_type": "markdown",
   "metadata": {},
   "source": [
    "### Задание 1.6\n",
    "\n",
    "Найти выражение производной функции $ f(x) $ и ее значение в точке $ x_0 $\n",
    "\n",
    "$ f(x) = \\dfrac{x^3 - x^2 - x - 1}{1 + 2x + 3x^2 - 4x^3}, \\ \\ \\  x_0 = 0 $"
   ]
  },
  {
   "cell_type": "markdown",
   "metadata": {},
   "source": [
    "#### Решение:\n",
    "\n",
    "$ \\left( \\dfrac{x^3 - x^2 - x - 1}{1 + 2x + 3x^2 - 4x^3} \\right)' = \\dfrac{(x^3 - x^2 - x - 1)'\\cdot(1 + 2x + 3x^2 - 4x^3) - (x^3 - x^2 - x - 1)\\cdot(1 + 2x + 3x^2 - 4x^3)' }{(1 + 2x + 3x^2 - 4x^3)^2} = $\n",
    "\n",
    "$ = \\dfrac{(3x^2 - 2x - 1)\\cdot(1 + 2x + 3x^2 - 4x^3) - (x^3 - x^2 - x - 1)\\cdot(2 + 6x - 12x^2) }{(1 + 2x + 3x^2 - 4x^3)^2}$ \n",
    "\n",
    "Подставим в полученное выражение $ x_0  = 0 $:\n",
    "\n",
    "$ = \\dfrac{(0- 0 - 1)\\cdot(1 + 0 + 0 - 0) - (0 - 0 - 0 - 1)\\cdot(2 + 0 - 0) }{(1 + 0 + 0 - 0)^2} = \\dfrac{(-1) \\cdot(1) - (-1)\\cdot(2) }{(1)^2} = 1$"
   ]
  },
  {
   "cell_type": "markdown",
   "metadata": {},
   "source": [
    "### Задание 1.7\n",
    "\n",
    "Найти угол наклона касательной к графику функции $ f(x) $ в точке $ x_0 $\n",
    "\n",
    "$ f(x) = \\sqrt{3x} \\cdot ln(x), \\ \\ \\ x_0 = 1 $"
   ]
  },
  {
   "cell_type": "markdown",
   "metadata": {},
   "source": [
    "#### Решение:\n",
    "\n",
    "Касательная к графику в точке есть ни что иное как производная данной функции. Найдем её:\n",
    "\n",
    "$ (\\sqrt{3x} \\cdot ln(x))' = (\\sqrt{3x})' \\cdot ln(x) + \\sqrt{3x} \\cdot (ln(x))' = \\dfrac{3 \\ ln(x)}{2 \\sqrt{3x}} + \\dfrac{\\sqrt{3x}}{x} $\n",
    "\n",
    "Подставим в полученное выражение $ x_0  = 1 $:\n",
    "\n",
    "$ \\dfrac{3 \\ ln(1)}{2 \\sqrt{3}} + \\dfrac{\\sqrt{3}}{1} = \\sqrt{3} $ \n",
    "\n",
    "Угол наклона касательной к графику функции есть ни что иное как тангенс искомого угла, равный отношению противолижащего катета к прилежащему: \n",
    "\n",
    "$ tg \\ \\alpha = \\dfrac{f'(x_0)}{x_0} = \\dfrac{\\sqrt{3}}{1} =  \\sqrt{3} \\ \\ \\ \\Rightarrow \\ \\ \\ \\alpha = 60^o $"
   ]
  },
  {
   "cell_type": "markdown",
   "metadata": {},
   "source": [
    "## Ряды"
   ]
  },
  {
   "cell_type": "code",
   "execution_count": null,
   "metadata": {},
   "outputs": [],
   "source": []
  }
 ],
 "metadata": {
  "kernelspec": {
   "display_name": "Python 3",
   "language": "python",
   "name": "python3"
  },
  "language_info": {
   "codemirror_mode": {
    "name": "ipython",
    "version": 3
   },
   "file_extension": ".py",
   "mimetype": "text/x-python",
   "name": "python",
   "nbconvert_exporter": "python",
   "pygments_lexer": "ipython3",
   "version": "3.7.1"
  }
 },
 "nbformat": 4,
 "nbformat_minor": 2
}
