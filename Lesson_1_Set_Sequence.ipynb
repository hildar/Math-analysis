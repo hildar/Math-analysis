{
 "cells": [
  {
   "cell_type": "markdown",
   "metadata": {},
   "source": [
    "## Урок 1.  Домашнее задание.\n",
    "## Множество. Последовательность."
   ]
  },
  {
   "cell_type": "markdown",
   "metadata": {},
   "source": [
    "### Задача 1.1\n",
    "\n",
    "Как относятся друг к другу множество и последовательность? (в ответе использовать слова типа: часть, целое, общее, частное, родитель, дочерний субъект и т.д.)"
   ]
  },
  {
   "cell_type": "markdown",
   "metadata": {},
   "source": [
    "#### Ответ:\n",
    "\n",
    "Последовательность по сути своей является результат последовательного частичного выбора элементов множества, элементы которого пронумерованы натуральными числами."
   ]
  },
  {
   "attachments": {},
   "cell_type": "markdown",
   "metadata": {},
   "source": [
    "### Задача 1.2\n",
    "\n",
    "Прочитать высказывания математической логики, построить их отрицания и *установить истинность.\n",
    "\n",
    "$\\forall y \\in [0;1] : sgn(y) = 1$\n",
    "\n",
    "$\\forall n \\in \\mathbb N > 2 : \\exists x, y, z \\in \\mathbb N : x^n = y^n + z^n$\n",
    "\n",
    "$\\forall x \\in \\mathbb R \\exists X \\in \\mathbb R : X > x$\n",
    "\n",
    "$\\forall x \\in \\mathbb C \\nexists y \\in \\mathbb C : x > y || x < y$\n",
    "\n",
    "$\\forall y \\in [0; \\dfrac{\\pi}{2}] \\in \\epsilon > 0 : sin y < sin(y + \\epsilon) $\n",
    "\n",
    "$\\forall y \\in [0; pi) \\in \\epsilon > 0 : cos y < cos(y + \\epsilon) $\n",
    "\n",
    "$\\in x : x \\notin \\{ \\mathbb N, \\mathbb Z, \\mathbb Q, \\mathbb R, \\mathbb C \\} $"
   ]
  },
  {
   "cell_type": "markdown",
   "metadata": {},
   "source": [
    "####  Ответ:\n",
    "\n",
    "#### 1.2.1. "
   ]
  },
  {
   "cell_type": "markdown",
   "metadata": {},
   "source": [
    "$\\forall y \\in [0;1] : sgn(y) = 1$.\n",
    "\n",
    "*Высказывание:*\n",
    "\n",
    "Для любого `y` из интервала от нуля включительно до единицы включительно справедливо, что сигнум `y` равен одному.\n",
    "\n",
    "*Истинность:*\n",
    "\n",
    "Данное утверждение ложно, т.к. сигнум нуля равен нулю.\n",
    "\n",
    "*Отрицание:*\n",
    "\n",
    "$\\exists y \\in [0;1] : sgn(y) \\neq 1$."
   ]
  },
  {
   "cell_type": "markdown",
   "metadata": {},
   "source": [
    "#### 1.2.2."
   ]
  },
  {
   "cell_type": "markdown",
   "metadata": {},
   "source": [
    "$\\forall n \\in \\mathbb N > 2 : \\exists x, y, z \\in \\mathbb N : x^n = y^n + z^n$\n",
    "\n",
    "*Высказывание:*\n",
    "\n",
    "Для любого `n` из множества натуральных чисел больше двух существуют такие натуральные числа `x, y, z` в которых `n` выражается через степень полинома - икс в степени $x^n = y^n + z^n$.\n",
    "\n",
    "*Истинность:*\n",
    "\n",
    "Утверждение не верно согласно *Великой теореме Ферма*, которая утверждает, что такое уравнение при `n` больше двух не имеет целых корней.\n",
    "\n",
    "*Отрицание:*\n",
    "\n",
    "$\\exists n \\in \\mathbb N < 2 : \\forall x, y, z \\in \\mathbb N : x^n \\neq y^n + z^n$"
   ]
  },
  {
   "cell_type": "markdown",
   "metadata": {},
   "source": [
    "#### 1.2.3."
   ]
  },
  {
   "cell_type": "markdown",
   "metadata": {},
   "source": [
    "$\\forall x \\in \\mathbb R \\exists X \\in \\mathbb R : X > x$\n",
    "\n",
    "*Высказывание:*\n",
    "\n",
    "Для любого вещественного `x` существует множество вещественных чисел `X` больше чем `x`.\n",
    "\n",
    "*Истинность:*\n",
    "\n",
    "Утверждение истинно так множество вещественных чисел бесконечно.\n",
    "\n",
    "*Отрицание:*\n",
    "\n",
    "$\\exists x \\in \\mathbb R \\forall X \\in \\mathbb R : X < x$"
   ]
  },
  {
   "cell_type": "markdown",
   "metadata": {},
   "source": [
    "#### 1.2.4.\n",
    "\n",
    "$\\forall x \\in \\mathbb C \\nexists y \\in \\mathbb C : x > y || x < y$"
   ]
  },
  {
   "cell_type": "markdown",
   "metadata": {},
   "source": [
    "*Высказывание:*\n",
    "\n",
    "Для любого комплексного числа `x` не существует комплексного числа `y`, которое меньше или больше `x`.\n",
    "\n",
    "*Истинность:*\n",
    "\n",
    "Утверждение истинно т.к. для `x` = `y` условие ($x > y || x < y$) не выполниться.\n",
    "\n",
    "*Отрицание:*\n",
    "\n",
    "$\\exists x \\in \\mathbb C \\nexists y \\in \\mathbb C : x < y , x > y$"
   ]
  },
  {
   "cell_type": "markdown",
   "metadata": {},
   "source": [
    "#### 1.2.5.\n",
    "\n",
    "$\\forall y \\in [0; \\dfrac{\\pi}{2}] \\exists \\in \\epsilon > 0 : sin y < sin(y + \\epsilon) $"
   ]
  },
  {
   "cell_type": "markdown",
   "metadata": {},
   "source": [
    "*Высказывание:*\n",
    "\n",
    "Для любого `y` из интервала от нуля включительно до  $\\dfrac{\\pi}{2}$ включительно существует эпсилон больший нуля, такой, что синус `y` меньше чем синус  от `y` + $\\epsilon$.\n",
    "\n",
    "*Истинность:*\n",
    "\n",
    "Утверждение ложно т.к. при $y = \\dfrac{\\pi}{2}$ и $\\epsilon > 0$ синусоида $sin(y + \\epsilon)$ пойдет на снижение и условие не выполнится. \n",
    "\n",
    "*Отрицание:*\n",
    "\n",
    "$\\exists y \\in [0; \\dfrac{\\pi}{2}] \\forall \\in \\epsilon < 0 : sin y > sin(y + \\epsilon) $\n"
   ]
  },
  {
   "cell_type": "markdown",
   "metadata": {},
   "source": [
    "#### 1.2.6.\n",
    "\n",
    "$\\forall y \\in [0; \\pi) \\exists \\in \\epsilon > 0 : cos y < cos(y + \\epsilon) $"
   ]
  },
  {
   "cell_type": "markdown",
   "metadata": {},
   "source": [
    "*Высказывание:*\n",
    "\n",
    "Для любого `y` из интервала от нуля включительно до $\\pi$ не включительно существует эпсилон больший нуля, такой, что косинус `y` меньше, чем косинус от `y` + $\\epsilon$.\n",
    "\n",
    "*Истинность:*\n",
    "\n",
    "Утверждение истинно так как $\\pi$ не включено в интервал и условие выполнится для любого `y`.\n",
    "\n",
    "*Отрицание:*\n",
    "\n",
    "$\\forall y \\in [0; \\pi) \\exists \\in \\epsilon > 0 : cos y < cos(y + \\epsilon) $"
   ]
  },
  {
   "cell_type": "markdown",
   "metadata": {},
   "source": [
    "#### 1.2.7.\n",
    "\n",
    "$\\exists x : x \\notin \\{ \\mathbb N, \\mathbb Z, \\mathbb Q, \\mathbb R, \\mathbb C \\} $"
   ]
  },
  {
   "cell_type": "markdown",
   "metadata": {},
   "source": [
    "*Высказывание:*\n",
    "\n",
    "Существует такое `x` которое не включено ни в одно из множеств натуральных, целых, рациональных, вещественных и комплексных чисел\n",
    "\n",
    "*Истинность:*\n",
    "\n",
    "Данное утверждение ложно так как согласно парадоксу Рассела нельзя составить множество всех множеств, а значит само условие высказывания не верно.\n",
    "\n",
    "*Отрицание:*\n",
    "\n",
    "$\\forall x : x \\in \\{ \\mathbb N, \\mathbb Z, \\mathbb Q, \\mathbb R, \\mathbb C \\} $"
   ]
  },
  {
   "cell_type": "markdown",
   "metadata": {},
   "source": [
    "### Задача 2.1\n",
    "\n",
    "Даны три множества a,b и с. Необходимо выполнить все изученные виды бинарных операций над всеми комбинациями множеств."
   ]
  },
  {
   "cell_type": "markdown",
   "metadata": {},
   "source": [
    "#### Решение:"
   ]
  },
  {
   "cell_type": "markdown",
   "metadata": {},
   "source": [
    "Определим множества: \n",
    "\n",
    "* $A = \\{ 1; 4; 6\\}$\n",
    "* $B = \\{ 2; 4; 5\\}$\n",
    "* $C = \\{ 2; 3; 4\\}$"
   ]
  },
  {
   "cell_type": "markdown",
   "metadata": {},
   "source": []
  },
  {
   "cell_type": "markdown",
   "metadata": {},
   "source": [
    "Пропишем необходимые комбинации бинарных операций:\n",
    "\n",
    "1. $ A \\cup B \\cap C = \\{1;4;6\\} \\cup \\{2;4;5\\} \\cap \\{2;3;4\\} = \\{1;4;6\\} \\cup \\{2;4\\} = \\{1;4;6;2\\} $\n",
    "2. $ A \\cap C \\times B = \\{1;4;6\\} \\cap \\{2;3;4\\} \\times \\{2;4;5\\} = \\{4\\} \\times \\{2;4;5\\} = \\{(4;2);(4;4);(4;5)\\}$\n",
    "3. $ B \\setminus A \\cup C = \\{2;4;5\\} \\setminus \\{1;4;6\\} \\cup \\{2;3;4\\} = \\{2;5\\} \\cup \\{2;3;4\\} = \\{5;2;3;4\\} $\n",
    "4. $ B \\: \\Delta \\: C \\cap A = \\{2;4;5\\} \\: \\Delta \\: \\{2;3;4\\} \\cap \\{1;4;6\\} = \\{2;4;5\\} \\: \\Delta \\: \\{4\\} = \\{2;5\\}$\n",
    "5. $ C \\setminus A \\times B = \\{2;3;4\\} \\setminus \\{1;4;6\\} \\times \\{2;4;5\\} = \\{2;3\\} \\times \\{2;4;5\\} = \\{(2;2);(2;4);(2;5);(3;2);(3;4);(3;5)\\}$\n",
    "6. $ C \\cap B \\cap A = \\{2;3;4\\} \\cap \\{2;4;5\\} \\cap \\{1;4;6\\} = \\{2;4\\} \\cap \\{1;4;6\\} = \\{4\\}$"
   ]
  },
  {
   "cell_type": "markdown",
   "metadata": {},
   "source": [
    "### Задача 2.2\n",
    "\n",
    "\\*Выполнить задание 2.1 на языке Python"
   ]
  },
  {
   "cell_type": "code",
   "execution_count": 1,
   "metadata": {},
   "outputs": [],
   "source": [
    "import itertools"
   ]
  },
  {
   "cell_type": "code",
   "execution_count": 2,
   "metadata": {},
   "outputs": [],
   "source": [
    "A = {1,4,6}\n",
    "B = {2,4,5}\n",
    "C = {2,3,4}"
   ]
  },
  {
   "cell_type": "markdown",
   "metadata": {},
   "source": [
    "$A \\cup B \\cap C$:"
   ]
  },
  {
   "cell_type": "code",
   "execution_count": 3,
   "metadata": {},
   "outputs": [
    {
     "data": {
      "text/plain": [
       "{1, 2, 4, 6}"
      ]
     },
     "execution_count": 3,
     "metadata": {},
     "output_type": "execute_result"
    }
   ],
   "source": [
    "A | B & C"
   ]
  },
  {
   "cell_type": "markdown",
   "metadata": {},
   "source": [
    "$A \\cap C \\times B$:"
   ]
  },
  {
   "cell_type": "markdown",
   "metadata": {},
   "source": [
    "Сначала создадим функцию для декартово произведения двух множеств:"
   ]
  },
  {
   "cell_type": "code",
   "execution_count": 4,
   "metadata": {},
   "outputs": [],
   "source": [
    "# cp = cartezian_produc\n",
    "def cp(a, b):\n",
    "    result = set()\n",
    "    for i in itertools.product(a, b):\n",
    "        result.add(i)\n",
    "    return result"
   ]
  },
  {
   "cell_type": "markdown",
   "metadata": {},
   "source": [
    "Теперь вычислим выражение:"
   ]
  },
  {
   "cell_type": "code",
   "execution_count": 5,
   "metadata": {},
   "outputs": [
    {
     "data": {
      "text/plain": [
       "{(4, 2), (4, 4), (4, 5)}"
      ]
     },
     "execution_count": 5,
     "metadata": {},
     "output_type": "execute_result"
    }
   ],
   "source": [
    "cp(A & C, B)"
   ]
  },
  {
   "cell_type": "markdown",
   "metadata": {},
   "source": [
    "$B \\setminus A \\cup C$:"
   ]
  },
  {
   "cell_type": "code",
   "execution_count": 6,
   "metadata": {
    "scrolled": true
   },
   "outputs": [
    {
     "data": {
      "text/plain": [
       "{2, 3, 4, 5}"
      ]
     },
     "execution_count": 6,
     "metadata": {},
     "output_type": "execute_result"
    }
   ],
   "source": [
    "B - A | C"
   ]
  },
  {
   "cell_type": "markdown",
   "metadata": {},
   "source": [
    "$B \\: \\Delta \\: C \\cap A$:"
   ]
  },
  {
   "cell_type": "code",
   "execution_count": 7,
   "metadata": {},
   "outputs": [
    {
     "data": {
      "text/plain": [
       "{2, 5}"
      ]
     },
     "execution_count": 7,
     "metadata": {},
     "output_type": "execute_result"
    }
   ],
   "source": [
    "B ^ C & A"
   ]
  },
  {
   "cell_type": "markdown",
   "metadata": {},
   "source": [
    "$C \\setminus A \\times B$:"
   ]
  },
  {
   "cell_type": "code",
   "execution_count": 8,
   "metadata": {},
   "outputs": [
    {
     "data": {
      "text/plain": [
       "{(2, 2), (2, 4), (2, 5), (3, 2), (3, 4), (3, 5)}"
      ]
     },
     "execution_count": 8,
     "metadata": {},
     "output_type": "execute_result"
    }
   ],
   "source": [
    "cp(C - A, B)"
   ]
  },
  {
   "cell_type": "markdown",
   "metadata": {},
   "source": [
    "$C \\cap B \\cap A$:"
   ]
  },
  {
   "cell_type": "code",
   "execution_count": 9,
   "metadata": {},
   "outputs": [
    {
     "data": {
      "text/plain": [
       "{4}"
      ]
     },
     "execution_count": 9,
     "metadata": {},
     "output_type": "execute_result"
    }
   ],
   "source": [
    "C & B & A"
   ]
  },
  {
   "cell_type": "markdown",
   "metadata": {},
   "source": [
    "### Задача 3.1\n",
    "\n",
    "Даны 4 последовательности.\n",
    "\n",
    "1. $ \\{a_n\\}_{n=1}^{\\infty} = 2^n - n $\n",
    "\n",
    "2. $ \\{b_n\\}_{n=2}^{\\infty} = \\dfrac{1}{1 - n} $\n",
    "\n",
    "3. $ \\{c_n\\}_{n=1}^{\\infty} = -1^n + \\sqrt{2n}$\n",
    "\n",
    "4. $ \\{d_n\\}_{n=1}^{\\infty} = (-1)^{2n} + \\dfrac{1}{n^2}$\n",
    "\n",
    "Необходимо:\n",
    "\n",
    "1. исследовать их на монотонность; \n",
    "2. исследовать на ограниченность;\n",
    "3. найти пятый по счету член."
   ]
  },
  {
   "cell_type": "markdown",
   "metadata": {},
   "source": [
    "1. $ \\{a_n\\}_{n=1}^{\\infty} = 2^n - n $"
   ]
  },
  {
   "cell_type": "code",
   "execution_count": null,
   "metadata": {},
   "outputs": [],
   "source": []
  }
 ],
 "metadata": {
  "kernelspec": {
   "display_name": "Python 3",
   "language": "python",
   "name": "python3"
  },
  "language_info": {
   "codemirror_mode": {
    "name": "ipython",
    "version": 3
   },
   "file_extension": ".py",
   "mimetype": "text/x-python",
   "name": "python",
   "nbconvert_exporter": "python",
   "pygments_lexer": "ipython3",
   "version": "3.7.1"
  }
 },
 "nbformat": 4,
 "nbformat_minor": 2
}
