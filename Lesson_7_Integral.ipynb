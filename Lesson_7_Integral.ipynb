{
 "cells": [
  {
   "cell_type": "markdown",
   "metadata": {},
   "source": [
    "# Урок 7. Домашнее задание.\n",
    "\n",
    "## Интеграл"
   ]
  },
  {
   "cell_type": "markdown",
   "metadata": {},
   "source": [
    "### Задача 1\n",
    "\n",
    "#### Найти неопределенный интеграл:\n",
    "\n",
    "$ \\int (2x^2 - 2x - 1 + sin \\ x - cos \\ x + ln \\ x + e^x)dx $"
   ]
  },
  {
   "cell_type": "markdown",
   "metadata": {},
   "source": [
    "$ \\int (2x^2 - 2x - 1 + sin \\ x - cos \\ x + ln \\ x + e^x)dx = \\int (2x^2)dx - \\int (2x)dx - \\int (1)dx + \\int (sin \\ x)dx - \\int (cos \\ x)dx + \\int (ln \\ x)dx + \\int (e^x)dx = \\dfrac{2}{3}x^3 - x^2 - x - cos \\ x - sin \\ x + x \\cdot ln \\ x - x + e^x + C $"
   ]
  },
  {
   "cell_type": "markdown",
   "metadata": {},
   "source": [
    "### Задача 2\n",
    "\n",
    "#### Найти неопределенный интеграл:\n",
    "\n",
    "$ \\int (2x^2 + 6xz^2 - 5x^2y - 3 \\ ln \\ z)dx $"
   ]
  },
  {
   "cell_type": "code",
   "execution_count": null,
   "metadata": {},
   "outputs": [],
   "source": []
  }
 ],
 "metadata": {
  "kernelspec": {
   "display_name": "Python 3",
   "language": "python",
   "name": "python3"
  },
  "language_info": {
   "codemirror_mode": {
    "name": "ipython",
    "version": 3
   },
   "file_extension": ".py",
   "mimetype": "text/x-python",
   "name": "python",
   "nbconvert_exporter": "python",
   "pygments_lexer": "ipython3",
   "version": "3.7.1"
  }
 },
 "nbformat": 4,
 "nbformat_minor": 2
}
