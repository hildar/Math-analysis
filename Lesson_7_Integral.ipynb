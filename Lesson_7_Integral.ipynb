{
 "cells": [
  {
   "cell_type": "markdown",
   "metadata": {},
   "source": [
    "# Урок 7. Домашнее задание.\n",
    "\n",
    "## Интеграл"
   ]
  },
  {
   "cell_type": "markdown",
   "metadata": {},
   "source": [
    "### Задача 1\n",
    "\n",
    "#### Найти неопределенный интеграл:\n",
    "\n",
    "$ \\int (2x^2 - 2x - 1 + sin \\ x - cos \\ x + ln \\ x + e^x)dx $"
   ]
  },
  {
   "cell_type": "markdown",
   "metadata": {},
   "source": [
    "#### Решение:\n",
    "\n",
    "$ \\int (2x^2 - 2x - 1 + sin \\ x - cos \\ x + ln \\ x + e^x)dx = \\int (2x^2)dx - \\int (2x)dx - \\int (1)dx + \\int (sin \\ x)dx - \\int (cos \\ x)dx + \\int (ln \\ x)dx + \\int (e^x)dx = \\dfrac{2}{3}x^3 - x^2 - x - cos \\ x - sin \\ x + x \\cdot ln \\ x - x + e^x + C $"
   ]
  },
  {
   "cell_type": "markdown",
   "metadata": {},
   "source": [
    "### Задача 2\n",
    "\n",
    "#### Найти неопределенный интеграл:\n",
    "\n",
    "$ \\int (2x + 6xz^2 - 5x^2y - 3 \\ ln \\ z)dx $"
   ]
  },
  {
   "cell_type": "markdown",
   "metadata": {},
   "source": [
    "#### Решение:\n",
    "\n",
    "$ \\int (2x + 6xz^2 - 5x^2y - 3 \\ ln \\ z)dx = \\int 2x \\ dx + \\int 6xz^2 \\ dx - \\int 5x^2y \\ dx - \\int 3 \\ ln \\ z \\ dx = x^2 + 3x^2 z^2 - \\frac{5}{3}x^3 y - 3x \\ ln \\ z + C $"
   ]
  },
  {
   "cell_type": "markdown",
   "metadata": {},
   "source": [
    "### Задача 3\n",
    "\n",
    "#### Вычислить определенный интеграл:\n",
    "\n",
    "$ \\int\\limits_0^{\\pi} 3x^2 \\ sin(2x) \\ dx $"
   ]
  },
  {
   "cell_type": "markdown",
   "metadata": {},
   "source": [
    "#### Решение:\n",
    "\n",
    "$ \\int\\limits_0^{\\pi} 3x^2 \\ sin(2x) \\ dx = (-\\dfrac{3}{2}x^2 cos2x \\ dx)|_0^{\\pi} + 3 \\int\\limits_0^{\\pi} x \\ cos2x \\ dx = -\\dfrac{3}{2}\\pi^2 + 3 \\int\\limits_0^{\\pi} x \\ cos2x \\ dx = -\\dfrac{3}{2}\\pi^2 + (\\dfrac{3}{2}x \\ sin2x)|_0^{\\pi} + \\dfrac{3}{2} \\int\\limits_0^{\\pi} sin2x \\ dx = -\\dfrac{3}{2}\\pi^2 $\n",
    "\n",
    "$ $"
   ]
  },
  {
   "cell_type": "markdown",
   "metadata": {},
   "source": [
    "### Задача 4\n",
    "\n",
    "#### Найти неопределенный интеграл:\n",
    "\n",
    "$ \\int \\dfrac{1}{\\sqrt{x+1}} dx $"
   ]
  },
  {
   "cell_type": "markdown",
   "metadata": {},
   "source": [
    "#### Решение:\n",
    "\n",
    "$ \\int \\dfrac{1}{\\sqrt{x+1}} dx = \\int \\dfrac{1}{\\sqrt{t}} dt , \\ \\ \\ \\  где \\ t = x + 1, \\ dt = d(x + 1) = dx $\n",
    "\n",
    "$ \\int t^{-\\frac{1}{2}} dt = 2\\sqrt{t} = 2\\sqrt{x + 1} + C $"
   ]
  },
  {
   "cell_type": "markdown",
   "metadata": {},
   "source": [
    "### Задача 5\n",
    "\n",
    "#### Классифицировать ДУ и найти его решение:\n",
    "\n",
    "$ (4x^2 + \\dfrac{1}{2}y^2 - 6y)dx + (2y^3 + xy - 6x)dy = 0 $ "
   ]
  },
  {
   "cell_type": "markdown",
   "metadata": {},
   "source": [
    "#### Решение:\n",
    "\n",
    "$ $"
   ]
  },
  {
   "cell_type": "markdown",
   "metadata": {},
   "source": [
    "### Задача 6\n",
    "\n",
    "#### Классифицировать ДУ и найти его решение:\n",
    "\n",
    "$ y' + y = x^2 y^3 $"
   ]
  },
  {
   "cell_type": "markdown",
   "metadata": {},
   "source": [
    "#### Решение:\n",
    "\n",
    "$ $"
   ]
  },
  {
   "cell_type": "code",
   "execution_count": null,
   "metadata": {},
   "outputs": [],
   "source": []
  }
 ],
 "metadata": {
  "kernelspec": {
   "display_name": "Python 3",
   "language": "python",
   "name": "python3"
  },
  "language_info": {
   "codemirror_mode": {
    "name": "ipython",
    "version": 3
   },
   "file_extension": ".py",
   "mimetype": "text/x-python",
   "name": "python",
   "nbconvert_exporter": "python",
   "pygments_lexer": "ipython3",
   "version": "3.7.1"
  }
 },
 "nbformat": 4,
 "nbformat_minor": 2
}
